{
 "cells": [
  {
   "cell_type": "markdown",
   "metadata": {},
   "source": [
    "# BigHug\n",
    "## BigQuery of the GitHub data dump\n",
    "\n",
    "gully\n",
    "\n",
    "July 3, 2016\n",
    "\n",
    "I'm experimenting with querying.  This is a first pass."
   ]
  },
  {
   "cell_type": "markdown",
   "metadata": {},
   "source": [
    "## Experiments"
   ]
  },
  {
   "cell_type": "markdown",
   "metadata": {},
   "source": [
    "```SQL\n",
    "SELECT count(*)\n",
    "FROM (SELECT id, repo_name, path\n",
    "        FROM [bigquery-public-data:github_repos.sample_files]\n",
    "      ) AS F\n",
    "JOIN (SELECT id\n",
    "        FROM [bigquery-public-data:github_repos.sample_contents]\n",
    "       WHERE NOT binary\n",
    "         AND content CONTAINS 'import seaborn as sns') AS C\n",
    "ON F.id = C.id;\n",
    "```"
   ]
  },
  {
   "cell_type": "markdown",
   "metadata": {},
   "source": [
    "Answer: 78 instances."
   ]
  },
  {
   "cell_type": "markdown",
   "metadata": {},
   "source": [
    "But we don't know if that's repeated within the same file or repo for example..."
   ]
  },
  {
   "cell_type": "code",
   "execution_count": 3,
   "metadata": {
    "collapsed": true
   },
   "outputs": [],
   "source": [
    "sns_num = 78.0"
   ]
  },
  {
   "cell_type": "markdown",
   "metadata": {},
   "source": [
    "```SQL\n",
    "SELECT count(*)\n",
    "FROM (SELECT id, repo_name, path\n",
    "        FROM [bigquery-public-data:github_repos.sample_files]\n",
    "      ) AS F\n",
    "JOIN (SELECT id\n",
    "        FROM [bigquery-public-data:github_repos.sample_contents]\n",
    "       WHERE NOT binary\n",
    "         AND content CONTAINS 'import matplotlib.pyplot as plt') AS C\n",
    "ON F.id = C.id;\n",
    "```"
   ]
  },
  {
   "cell_type": "code",
   "execution_count": 5,
   "metadata": {
    "collapsed": true
   },
   "outputs": [],
   "source": [
    "plt_num = 1331.0"
   ]
  },
  {
   "cell_type": "code",
   "execution_count": 6,
   "metadata": {
    "collapsed": true
   },
   "outputs": [],
   "source": [
    "frac = sns_num / plt_num"
   ]
  },
  {
   "cell_type": "code",
   "execution_count": 9,
   "metadata": {
    "collapsed": false
   },
   "outputs": [
    {
     "name": "stdout",
     "output_type": "stream",
     "text": [
      "Seaborn appeared 5.9% as often as matplotlib\n"
     ]
    }
   ],
   "source": [
    "print(\"Seaborn appeared {:0.1%} as often as matplotlib\".format(frac))"
   ]
  }
 ],
 "metadata": {
  "kernelspec": {
   "display_name": "Python 3",
   "language": "python",
   "name": "python3"
  },
  "language_info": {
   "codemirror_mode": {
    "name": "ipython",
    "version": 3
   },
   "file_extension": ".py",
   "mimetype": "text/x-python",
   "name": "python",
   "nbconvert_exporter": "python",
   "pygments_lexer": "ipython3",
   "version": "3.4.4"
  }
 },
 "nbformat": 4,
 "nbformat_minor": 0
}
